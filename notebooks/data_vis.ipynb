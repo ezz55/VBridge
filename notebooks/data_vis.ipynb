{
 "cells": [
  {
   "cell_type": "code",
   "execution_count": 1,
   "id": "descending-programming",
   "metadata": {},
   "outputs": [
    {
     "ename": "ModuleNotFoundError",
     "evalue": "No module named 'model.data'",
     "output_type": "error",
     "traceback": [
      "\u001b[0;31m---------------------------------------------------------------------------\u001b[0m",
      "\u001b[0;31mModuleNotFoundError\u001b[0m                       Traceback (most recent call last)",
      "\u001b[0;32m<ipython-input-1-3f16eefac755>\u001b[0m in \u001b[0;36m<module>\u001b[0;34m\u001b[0m\n\u001b[1;32m      5\u001b[0m \u001b[0;32mif\u001b[0m \u001b[0mmodule_path\u001b[0m \u001b[0;32mnot\u001b[0m \u001b[0;32min\u001b[0m \u001b[0msys\u001b[0m\u001b[0;34m.\u001b[0m\u001b[0mpath\u001b[0m\u001b[0;34m:\u001b[0m\u001b[0;34m\u001b[0m\u001b[0;34m\u001b[0m\u001b[0m\n\u001b[1;32m      6\u001b[0m     \u001b[0msys\u001b[0m\u001b[0;34m.\u001b[0m\u001b[0mpath\u001b[0m\u001b[0;34m.\u001b[0m\u001b[0mappend\u001b[0m\u001b[0;34m(\u001b[0m\u001b[0mmodule_path\u001b[0m\u001b[0;34m)\u001b[0m\u001b[0;34m\u001b[0m\u001b[0;34m\u001b[0m\u001b[0m\n\u001b[0;32m----> 7\u001b[0;31m \u001b[0;32mfrom\u001b[0m \u001b[0mmodel\u001b[0m\u001b[0;34m.\u001b[0m\u001b[0mdata\u001b[0m \u001b[0;32mimport\u001b[0m \u001b[0mget_patient_records\u001b[0m\u001b[0;34m,\u001b[0m \u001b[0mload_pic\u001b[0m\u001b[0;34m\u001b[0m\u001b[0;34m\u001b[0m\u001b[0m\n\u001b[0m",
      "\u001b[0;31mModuleNotFoundError\u001b[0m: No module named 'model.data'"
     ]
    }
   ],
   "source": [
    "import sys\n",
    "import os\n",
    "\n",
    "module_path = os.path.abspath(os.path.join('..'))\n",
    "if module_path not in sys.path:\n",
    "    sys.path.append(module_path)\n",
    "from model.data import get_patient_records, load_pic"
   ]
  },
  {
   "cell_type": "code",
   "execution_count": null,
   "id": "computational-estonia",
   "metadata": {},
   "outputs": [],
   "source": [
    "ignore_variables = {\n",
    "    'PATIENTS': ['ROW_ID', 'EXPIRE_FLAG', 'DOD', 'SUBJECT_ID'],\n",
    "    'ADMISSIONS': ['ROW_ID', 'HADM_ID', 'SUBJECT_ID'],\n",
    "    'ICUSTAYS': ['ROW_ID', 'HADM_ID', 'ICUSTAY_ID', 'SUBJECT_ID'],\n",
    "    'SURGERY_INFO': ['ROW_ID', 'HADM_ID', 'SUBJECT_ID', 'VISIT_ID', 'OPER_ID'],\n",
    "    'DIAGNOSES_ICD': ['ROW_ID', 'HADM_ID', 'SUBJECT_ID'],\n",
    "    'SURGERY_VITAL_SIGNS': ['ROW_ID', 'HADM_ID', 'SUBJECT_ID', 'VISIT_ID', 'OPER_ID', 'ITEM_NO'],\n",
    "    'EMR_SYMPTOMS': ['ROW_ID', 'HADM_ID', 'SUBJECT_ID', 'EMR_ID', 'SYMPTOM_NAME_CN'],\n",
    "    'LABEVENTS': ['ROW_ID', 'HADM_ID', 'SUBJECT_ID', 'VALUEUOM', 'CHARTTIME'],\n",
    "    'MICROBIOLOGYEVENTS': ['ROW_ID', 'HADM_ID', 'SUBJECT_ID', 'AB_ITEMID', 'ORG_ITEMID', 'SPEC_ITEMID'],\n",
    "    'OR_EXAM_REPORTS': ['ROW_ID', 'HADM_ID', 'SUBJECT_ID', 'REPORTTIME'],\n",
    "    'CHARTEVENTS': ['ROW_ID', 'SUBJECT_ID', 'HADM_ID', 'ICUSTAY_ID', 'VALUEUOM', 'STORETIME'],\n",
    "    'INPUTEVENTS': ['ROW_ID', 'HADM_ID', 'ICUSTAY_ID', 'SUBJECT_ID'],\n",
    "    'OUTPUTEVENTS': ['ROW_ID', 'HADM_ID', 'ICUSTAY_ID', 'ITEMID', 'SUBJECT_ID'],\n",
    "    'PRESCRIPTIONS': ['ROW_ID', 'HADM_ID', 'ICUSTAY_ID', 'SUBJECT_ID', 'DOSE_UNIT_RX', 'PROD_STRENGTH', \n",
    "                      'DRUG_NAME_GENERIC', 'DOSE_UNIT_RX', 'DRUG_FORM', 'DRUG_NAME'],\n",
    "    'D_ITEMS': ['ROW_ID', 'ITEMID', 'UNITNAME', 'LINKSTO', 'LABEL_CN', 'CATEGORY'],\n",
    "    'D_LABITEMS': ['ROW_ID', 'ITEMID', 'LABEL_CN'],\n",
    "    'D_ICD_DIAGNOSES': ['ROW_ID']\n",
    "}"
   ]
  },
  {
   "cell_type": "code",
   "execution_count": null,
   "id": "tribal-controversy",
   "metadata": {},
   "outputs": [],
   "source": [
    "es = load_pic()"
   ]
  },
  {
   "cell_type": "code",
   "execution_count": null,
   "id": "simplified-gateway",
   "metadata": {},
   "outputs": [],
   "source": [
    "surgery_df = get_patient_records(es, \"SURGERY_INFO\", subject_id)\n",
    "surgery_df\n",
    "\n",
    "surgery_end = surgery_df[\"SURGERY_END_TIME\"].iloc[0]\n",
    "print(surgery_end)"
   ]
  },
  {
   "cell_type": "code",
   "execution_count": null,
   "id": "verified-bridal",
   "metadata": {},
   "outputs": [],
   "source": [
    "subject_id = 3779\n",
    "\n",
    "prescription_df = get_patient_records(es, \"PRESCRIPTIONS\", subject_id)\n",
    "prescription_df"
   ]
  },
  {
   "cell_type": "code",
   "execution_count": null,
   "id": "right-vegetarian",
   "metadata": {},
   "outputs": [],
   "source": [
    "prescription_df = prescription_df[prescription_df[\"STARTDATE\"] < surgery_end]\n",
    "prescription_df"
   ]
  },
  {
   "cell_type": "code",
   "execution_count": null,
   "id": "acceptable-original",
   "metadata": {},
   "outputs": [],
   "source": [
    "import matplotlib.pyplot as plt\n",
    "import numpy as np\n",
    "\n",
    "values, counts = np.unique(prescription_df[\"DRUG_NAME_EN\"], return_counts=True)\n",
    "\n",
    "x = np.arange(len(values))\n",
    "y = counts\n",
    "\n",
    "plt.bar(x, y)\n",
    "plt.xticks(ticks=x, labels=values, rotation=45, ha='right')\n",
    "plt.show()"
   ]
  },
  {
   "cell_type": "code",
   "execution_count": null,
   "id": "rapid-newsletter",
   "metadata": {},
   "outputs": [],
   "source": [
    "es[\"SURGERY_INFO\"].df"
   ]
  },
  {
   "cell_type": "code",
   "execution_count": null,
   "id": "sticky-orlando",
   "metadata": {},
   "outputs": [],
   "source": [
    "import sys\n",
    "\n",
    "prescription_df = es[\"PRESCRIPTIONS\"].df\n",
    "values, counts = np.unique(prescription_df[\"DRUG_NAME_EN\"], return_counts=True)\n",
    "\n",
    "def exists(column, values=None):\n",
    "    assert values is not None\n",
    "    return [v in column.values for v in values]\n",
    "\n",
    "target_entity = 'SURGERY_INFO'\n",
    "label_times = es['SURGERY_INFO'].df[['UNI_OPER_ID', 'SURGERY_END_TIME']]\n",
    "label_times.columns = ['instance_id', 'time']\n",
    "\n",
    "Medications = ft.primitives.make_agg_primitive(function=exists,\n",
    "                                 input_types=[ft.variable_types.Discrete],\n",
    "                                 return_type=ft.variable_types.Boolean,\n",
    "                                 number_output_features=len(values))\n",
    "    \n",
    "med_feature_matrix, med_features_list = ft.dfs(entityset=es,\n",
    "                                       target_entity=target_entity,\n",
    "                                       agg_primitives=[Medications(values=values)],\n",
    "                                       trans_primitives=[],\n",
    "                                       allowed_paths=[['SURGERY_INFO', 'ADMISSIONS'],  \n",
    "                                                      ['SURGERY_INFO', 'ADMISSIONS', 'PRESCRIPTIONS']],\n",
    "                                       ignore_variables=ignore_variables,\n",
    "                                       cutoff_time=label_times,\n",
    "                                       max_depth=2,\n",
    "                                       verbose=True)\n",
    "\n",
    "med_feature_matrix = med_feature_matrix.fillna(0)"
   ]
  },
  {
   "cell_type": "code",
   "execution_count": null,
   "id": "chinese-electric",
   "metadata": {},
   "outputs": [],
   "source": [
    "drug_feature_matrix = med_feature_matrix.copy()\n",
    "\n",
    "for column in med_feature_matrix:\n",
    "    if not \"ADMISSIONS.EXISTS(PRESCRIPTIONS.DRUG_NAME_EN)\" in column:\n",
    "        drug_feature_matrix.drop(column, inplace=True, axis=\"columns\")\n",
    "        \n",
    "drug_feature_matrix"
   ]
  },
  {
   "cell_type": "code",
   "execution_count": null,
   "id": "adjusted-pendant",
   "metadata": {},
   "outputs": [],
   "source": [
    "prescription_counts = drug_feature_matrix.sum(axis=\"rows\")\n",
    "prescription_counts"
   ]
  },
  {
   "cell_type": "code",
   "execution_count": null,
   "id": "advised-exploration",
   "metadata": {},
   "outputs": [],
   "source": []
  }
 ],
 "metadata": {
  "kernelspec": {
   "display_name": "pic-venv",
   "language": "python",
   "name": "pic-venv"
  },
  "language_info": {
   "codemirror_mode": {
    "name": "ipython",
    "version": 3
   },
   "file_extension": ".py",
   "mimetype": "text/x-python",
   "name": "python",
   "nbconvert_exporter": "python",
   "pygments_lexer": "ipython3",
   "version": "3.8.5"
  }
 },
 "nbformat": 4,
 "nbformat_minor": 5
}

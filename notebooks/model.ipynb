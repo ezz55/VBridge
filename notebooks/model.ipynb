{
 "cells": [
  {
   "cell_type": "code",
   "execution_count": 1,
   "id": "interesting-house",
   "metadata": {},
   "outputs": [],
   "source": [
    "import os\n",
    "import sys\n",
    "from datetime import datetime\n",
    "\n",
    "import pandas as pd\n",
    "\n",
    "root = os.path.abspath('../')\n",
    "if root not in sys.path:\n",
    "    sys.path.append(root)\n",
    "    \n",
    "from model.data import load_pic\n",
    "from model.utils import load_entityset, load_fm\n",
    "from model.featurization import Featurization\n",
    "from model.modeler import Modeler\n",
    "from model.model_manager import ModelManager"
   ]
  },
  {
   "cell_type": "code",
   "execution_count": 2,
   "id": "pacific-debut",
   "metadata": {},
   "outputs": [],
   "source": [
    "try:\n",
    "    es = load_entityset()\n",
    "except FileNotFoundError:\n",
    "    es = load_pic(verbose=False)"
   ]
  },
  {
   "cell_type": "code",
   "execution_count": 3,
   "id": "found-devil",
   "metadata": {},
   "outputs": [],
   "source": [
    "try:\n",
    "    fm, fl = load_fm()\n",
    "except FileNotFoundError:\n",
    "    featurization = Featurization(es)\n",
    "    fm, fl = featurization.generate_features(forward=True, surgery_vital=True)"
   ]
  },
  {
   "cell_type": "code",
   "execution_count": 4,
   "id": "stable-walnut",
   "metadata": {},
   "outputs": [],
   "source": [
    "fm['SURGERY_NAME'] = fm['SURGERY_NAME'].apply(lambda row: row.split('+'))"
   ]
  },
  {
   "cell_type": "code",
   "execution_count": 5,
   "id": "statewide-slope",
   "metadata": {},
   "outputs": [],
   "source": [
    "model_manager = ModelManager(fm)"
   ]
  },
  {
   "cell_type": "code",
   "execution_count": 6,
   "id": "confident-pizza",
   "metadata": {},
   "outputs": [
    {
     "name": "stderr",
     "output_type": "stream",
     "text": [
      "/Users/chengfurui/Projects/XAI4EHR/venv/lib/python3.7/site-packages/sklearn/utils/validation.py:72: FutureWarning: Pass classes=[0, 1], y=[0 0 0 ... 0 0 1] as keyword args. From version 1.0 (renaming of 0.25) passing these as positional arguments will result in an error\n",
      "  \"will result in an error\", FutureWarning)\n",
      "/Users/chengfurui/Projects/XAI4EHR/venv/lib/python3.7/site-packages/sklearn/utils/validation.py:72: FutureWarning: Pass classes=[0, 1], y=[0 0 0 ... 0 0 1] as keyword args. From version 1.0 (renaming of 0.25) passing these as positional arguments will result in an error\n",
      "  \"will result in an error\", FutureWarning)\n",
      "/Users/chengfurui/Projects/XAI4EHR/venv/lib/python3.7/site-packages/sklearn/utils/validation.py:72: FutureWarning: Pass classes=[0, 1], y=[0 0 0 ... 0 0 0] as keyword args. From version 1.0 (renaming of 0.25) passing these as positional arguments will result in an error\n",
      "  \"will result in an error\", FutureWarning)\n",
      "/Users/chengfurui/Projects/XAI4EHR/venv/lib/python3.7/site-packages/sklearn/utils/validation.py:72: FutureWarning: Pass classes=[0, 1], y=[0 0 0 ... 0 0 1] as keyword args. From version 1.0 (renaming of 0.25) passing these as positional arguments will result in an error\n",
      "  \"will result in an error\", FutureWarning)\n",
      "/Users/chengfurui/Projects/XAI4EHR/venv/lib/python3.7/site-packages/sklearn/utils/validation.py:72: FutureWarning: Pass classes=[0, 1], y=[0 0 0 ... 0 0 0] as keyword args. From version 1.0 (renaming of 0.25) passing these as positional arguments will result in an error\n",
      "  \"will result in an error\", FutureWarning)\n",
      "/Users/chengfurui/Projects/XAI4EHR/venv/lib/python3.7/site-packages/sklearn/utils/validation.py:72: FutureWarning: Pass classes=[0, 1], y=[0 0 0 ... 0 0 1] as keyword args. From version 1.0 (renaming of 0.25) passing these as positional arguments will result in an error\n",
      "  \"will result in an error\", FutureWarning)\n"
     ]
    }
   ],
   "source": [
    "model_manager.fit_all()"
   ]
  },
  {
   "cell_type": "code",
   "execution_count": 7,
   "id": "genetic-soccer",
   "metadata": {},
   "outputs": [
    {
     "data": {
      "text/html": [
       "<div>\n",
       "<style scoped>\n",
       "    .dataframe tbody tr th:only-of-type {\n",
       "        vertical-align: middle;\n",
       "    }\n",
       "\n",
       "    .dataframe tbody tr th {\n",
       "        vertical-align: top;\n",
       "    }\n",
       "\n",
       "    .dataframe thead th {\n",
       "        text-align: right;\n",
       "    }\n",
       "</style>\n",
       "<table border=\"1\" class=\"dataframe\">\n",
       "  <thead>\n",
       "    <tr style=\"text-align: right;\">\n",
       "      <th></th>\n",
       "      <th>Accuracy</th>\n",
       "      <th>F1 Macro</th>\n",
       "      <th>Precision</th>\n",
       "      <th>Recall</th>\n",
       "      <th>Confusion Matrix</th>\n",
       "      <th>AUROC</th>\n",
       "    </tr>\n",
       "  </thead>\n",
       "  <tbody>\n",
       "    <tr>\n",
       "      <th>complication</th>\n",
       "      <td>0.815217</td>\n",
       "      <td>0.753623</td>\n",
       "      <td>0.766287</td>\n",
       "      <td>0.744067</td>\n",
       "      <td>[[242, 28], [40, 58]]</td>\n",
       "      <td>0.744067</td>\n",
       "    </tr>\n",
       "    <tr>\n",
       "      <th>lung complication</th>\n",
       "      <td>0.809783</td>\n",
       "      <td>0.676901</td>\n",
       "      <td>0.697887</td>\n",
       "      <td>0.663541</td>\n",
       "      <td>[[267, 27], [43, 31]]</td>\n",
       "      <td>0.663541</td>\n",
       "    </tr>\n",
       "    <tr>\n",
       "      <th>cardiac complication</th>\n",
       "      <td>0.959239</td>\n",
       "      <td>0.775015</td>\n",
       "      <td>0.841606</td>\n",
       "      <td>0.732332</td>\n",
       "      <td>[[343, 4], [11, 10]]</td>\n",
       "      <td>0.732332</td>\n",
       "    </tr>\n",
       "    <tr>\n",
       "      <th>arrhythmia complication</th>\n",
       "      <td>0.940217</td>\n",
       "      <td>0.56143</td>\n",
       "      <td>0.602778</td>\n",
       "      <td>0.546984</td>\n",
       "      <td>[[344, 6], [16, 2]]</td>\n",
       "      <td>0.546984</td>\n",
       "    </tr>\n",
       "    <tr>\n",
       "      <th>infectious complication</th>\n",
       "      <td>0.956522</td>\n",
       "      <td>0.488889</td>\n",
       "      <td>0.484848</td>\n",
       "      <td>0.492997</td>\n",
       "      <td>[[352, 5], [11, 0]]</td>\n",
       "      <td>0.492997</td>\n",
       "    </tr>\n",
       "    <tr>\n",
       "      <th>other complication</th>\n",
       "      <td>0.94837</td>\n",
       "      <td>0.634749</td>\n",
       "      <td>0.763554</td>\n",
       "      <td>0.59569</td>\n",
       "      <td>[[345, 3], [16, 4]]</td>\n",
       "      <td>0.59569</td>\n",
       "    </tr>\n",
       "  </tbody>\n",
       "</table>\n",
       "</div>"
      ],
      "text/plain": [
       "                         Accuracy  F1 Macro Precision    Recall  \\\n",
       "complication             0.815217  0.753623  0.766287  0.744067   \n",
       "lung complication        0.809783  0.676901  0.697887  0.663541   \n",
       "cardiac complication     0.959239  0.775015  0.841606  0.732332   \n",
       "arrhythmia complication  0.940217   0.56143  0.602778  0.546984   \n",
       "infectious complication  0.956522  0.488889  0.484848  0.492997   \n",
       "other complication        0.94837  0.634749  0.763554   0.59569   \n",
       "\n",
       "                              Confusion Matrix     AUROC  \n",
       "complication             [[242, 28], [40, 58]]  0.744067  \n",
       "lung complication        [[267, 27], [43, 31]]  0.663541  \n",
       "cardiac complication      [[343, 4], [11, 10]]  0.732332  \n",
       "arrhythmia complication    [[344, 6], [16, 2]]  0.546984  \n",
       "infectious complication    [[352, 5], [11, 0]]  0.492997  \n",
       "other complication         [[345, 3], [16, 4]]   0.59569  "
      ]
     },
     "execution_count": 7,
     "metadata": {},
     "output_type": "execute_result"
    }
   ],
   "source": [
    "model_manager.evaluate()"
   ]
  },
  {
   "cell_type": "code",
   "execution_count": 8,
   "id": "ordered-detector",
   "metadata": {},
   "outputs": [],
   "source": [
    "model_manager.save()"
   ]
  },
  {
   "cell_type": "code",
   "execution_count": null,
   "id": "trying-archive",
   "metadata": {},
   "outputs": [],
   "source": []
  }
 ],
 "metadata": {
  "kernelspec": {
   "display_name": "Python (bridges)",
   "language": "python",
   "name": "venv"
  },
  "language_info": {
   "codemirror_mode": {
    "name": "ipython",
    "version": 3
   },
   "file_extension": ".py",
   "mimetype": "text/x-python",
   "name": "python",
   "nbconvert_exporter": "python",
   "pygments_lexer": "ipython3",
   "version": "3.7.9"
  }
 },
 "nbformat": 4,
 "nbformat_minor": 5
}

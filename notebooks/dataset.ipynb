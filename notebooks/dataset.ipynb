{
 "cells": [
  {
   "cell_type": "code",
   "execution_count": 1,
   "id": "bacterial-monthly",
   "metadata": {},
   "outputs": [],
   "source": [
    "import os\n",
    "import sys\n",
    "from datetime import datetime, timedelta\n",
    "\n",
    "import pandas as pd\n",
    "\n",
    "root = os.path.abspath('../')\n",
    "if root not in sys.path:\n",
    "    sys.path.append(root)\n",
    "    \n",
    "from vbridge.data_loader.data import create_entityset\n",
    "from vbridge.data_loader.utils import load_entityset\n",
    "from vbridge.featurization.feature import Featurization\n",
    "from vbridge.modeling.model import Model, ModelManager"
   ]
  },
  {
   "cell_type": "markdown",
   "id": "b0c9f5df",
   "metadata": {},
   "source": [
    "## 0. Building EntitySet"
   ]
  },
  {
   "cell_type": "code",
   "execution_count": 2,
   "id": "preceding-kuwait",
   "metadata": {},
   "outputs": [],
   "source": [
    "# es = create_entityset('pic', verbose=False, save=True)\n",
    "es = load_entityset()"
   ]
  },
  {
   "cell_type": "markdown",
   "id": "770e095c",
   "metadata": {},
   "source": [
    "## 1. Featurization"
   ]
  },
  {
   "cell_type": "code",
   "execution_count": 3,
   "id": "61a1292e",
   "metadata": {},
   "outputs": [],
   "source": [
    "target_entity = 'ADMISSIONS'\n",
    "feat = Featurization(es, target_entity)"
   ]
  },
  {
   "cell_type": "code",
   "execution_count": 4,
   "id": "df24d0ab",
   "metadata": {},
   "outputs": [],
   "source": [
    "cutoff_time = es[target_entity].df.loc[:, [es[target_entity].index, es[target_entity].time_index]]\n",
    "cutoff_time.columns = ['instance_id', 'time']\n",
    "cutoff_time['time'] += timedelta(hours=48)"
   ]
  },
  {
   "cell_type": "code",
   "execution_count": 5,
   "id": "b6781ada",
   "metadata": {},
   "outputs": [
    {
     "name": "stdout",
     "output_type": "stream",
     "text": [
      "Remove:  ['MEAN(CHARTEVENTS.VALUENUM)', 'STD(CHARTEVENTS.VALUENUM)', 'TREND(CHARTEVENTS.VALUENUM, CHARTTIME)', 'MEAN(SURGERY_VITAL_SIGNS.VALUE)', 'STD(SURGERY_VITAL_SIGNS.VALUE)', 'TREND(SURGERY_VITAL_SIGNS.VALUE, MONITOR_TIME)', 'MEAN(LABEVENTS.VALUENUM)']\n"
     ]
    }
   ],
   "source": [
    "fm, fl = feat.generate_features(cutoff_time=cutoff_time)"
   ]
  },
  {
   "cell_type": "code",
   "execution_count": 6,
   "id": "eec3c960",
   "metadata": {},
   "outputs": [],
   "source": [
    "label = es['ADMISSIONS'].df['HOSPITAL_EXPIRE_FLAG']"
   ]
  },
  {
   "cell_type": "markdown",
   "id": "962f5495",
   "metadata": {},
   "source": [
    "## 2. Model Training"
   ]
  },
  {
   "cell_type": "code",
   "execution_count": 7,
   "id": "5b09c7cc-2ace-4506-95e9-f58848a96ed4",
   "metadata": {
    "tags": []
   },
   "outputs": [],
   "source": [
    "fm.index = fm.index.astype('str')\n",
    "\n",
    "model_manager = ModelManager(fm)\n",
    "model = Model()\n",
    "model_manager.add_model(model, label, 'mortality')"
   ]
  },
  {
   "cell_type": "code",
   "execution_count": 8,
   "id": "3fcd99f8",
   "metadata": {},
   "outputs": [
    {
     "data": {
      "text/html": [
       "<div>\n",
       "<style scoped>\n",
       "    .dataframe tbody tr th:only-of-type {\n",
       "        vertical-align: middle;\n",
       "    }\n",
       "\n",
       "    .dataframe tbody tr th {\n",
       "        vertical-align: top;\n",
       "    }\n",
       "\n",
       "    .dataframe thead th {\n",
       "        text-align: right;\n",
       "    }\n",
       "</style>\n",
       "<table border=\"1\" class=\"dataframe\">\n",
       "  <thead>\n",
       "    <tr style=\"text-align: right;\">\n",
       "      <th></th>\n",
       "      <th>AUROC</th>\n",
       "      <th>Accuracy</th>\n",
       "      <th>Confusion Matrix</th>\n",
       "      <th>F1 Macro</th>\n",
       "      <th>Precision</th>\n",
       "      <th>Recall</th>\n",
       "    </tr>\n",
       "  </thead>\n",
       "  <tbody>\n",
       "    <tr>\n",
       "      <th>mortality</th>\n",
       "      <td>0.881766</td>\n",
       "      <td>0.961924</td>\n",
       "      <td>[[478, 8], [11, 2]]</td>\n",
       "      <td>0.577213</td>\n",
       "      <td>0.588753</td>\n",
       "      <td>0.568693</td>\n",
       "    </tr>\n",
       "  </tbody>\n",
       "</table>\n",
       "</div>"
      ],
      "text/plain": [
       "              AUROC  Accuracy     Confusion Matrix  F1 Macro Precision  \\\n",
       "mortality  0.881766  0.961924  [[478, 8], [11, 2]]  0.577213  0.588753   \n",
       "\n",
       "             Recall  \n",
       "mortality  0.568693  "
      ]
     },
     "execution_count": 8,
     "metadata": {},
     "output_type": "execute_result"
    }
   ],
   "source": [
    "model_manager.fit_all()\n",
    "model_manager.evaluate()"
   ]
  },
  {
   "cell_type": "markdown",
   "id": "a59ad050",
   "metadata": {},
   "source": [
    "## 3. Model Explanation"
   ]
  },
  {
   "cell_type": "code",
   "execution_count": 9,
   "id": "b74e2f91",
   "metadata": {},
   "outputs": [],
   "source": [
    "shap_values = model.SHAP(fm)"
   ]
  },
  {
   "cell_type": "code",
   "execution_count": 10,
   "id": "b7dd2049",
   "metadata": {},
   "outputs": [
    {
     "data": {
      "text/plain": [
       "MEAN(CHARTEVENTS.VALUENUM WHERE ITEMID = 1006)                      -2757.764648\n",
       "MEAN(LABEVENTS.VALUENUM WHERE ITEMID = 5136)                        -1180.693115\n",
       "MEAN(LABEVENTS.VALUENUM WHERE ITEMID = 5099)                         -739.795776\n",
       "MEAN(LABEVENTS.VALUENUM WHERE ITEMID = 5002)                         -717.263916\n",
       "MEAN(LABEVENTS.VALUENUM WHERE ITEMID = 5141)                         -661.361267\n",
       "                                                                        ...     \n",
       "STD(SURGERY_VITAL_SIGNS.VALUE WHERE ITEMID = SV6)                       0.000000\n",
       "TREND(SURGERY_VITAL_SIGNS.VALUE, MONITOR_TIME WHERE ITEMID = SV1)       0.000000\n",
       "MEAN(LABEVENTS.VALUENUM WHERE ITEMID = 5218)                            1.311347\n",
       "MEAN(LABEVENTS.VALUENUM WHERE ITEMID = 5212)                           13.428649\n",
       "MEAN(LABEVENTS.VALUENUM WHERE ITEMID = 5257)                           17.537210\n",
       "Length: 105, dtype: float32"
      ]
     },
     "execution_count": 10,
     "metadata": {},
     "output_type": "execute_result"
    }
   ],
   "source": [
    "shap_values.sum().sort_values()"
   ]
  }
 ],
 "metadata": {
  "kernelspec": {
   "display_name": "Python (myenv)",
   "language": "python",
   "name": "myenv"
  },
  "language_info": {
   "codemirror_mode": {
    "name": "ipython",
    "version": 3
   },
   "file_extension": ".py",
   "mimetype": "text/x-python",
   "name": "python",
   "nbconvert_exporter": "python",
   "pygments_lexer": "ipython3",
   "version": "3.6.8"
  }
 },
 "nbformat": 4,
 "nbformat_minor": 5
}

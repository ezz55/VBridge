{
 "cells": [
  {
   "cell_type": "code",
   "execution_count": 1,
   "id": "bacterial-monthly",
   "metadata": {},
   "outputs": [],
   "source": [
    "import os\n",
    "import sys\n",
    "from datetime import datetime, timedelta\n",
    "\n",
    "import pandas as pd\n",
    "\n",
    "root = os.path.abspath('../')\n",
    "if root not in sys.path:\n",
    "    sys.path.append(root)\n",
    "    \n",
    "from vbridge.data_loader.data import create_entityset\n",
    "from vbridge.data_loader.utils import load_entityset\n",
    "from vbridge.featurization.feature import Featurization\n",
    "from vbridge.modeling.model import Model, ModelManager"
   ]
  },
  {
   "cell_type": "markdown",
   "id": "b0c9f5df",
   "metadata": {},
   "source": [
    "## 0. Building EntitySet"
   ]
  },
  {
   "cell_type": "code",
   "execution_count": 2,
   "id": "preceding-kuwait",
   "metadata": {},
   "outputs": [],
   "source": [
    "# es = create_entityset('pic', verbose=False, save=True)\n",
    "es = create_entityset('pic')"
   ]
  },
  {
   "cell_type": "markdown",
   "id": "770e095c",
   "metadata": {},
   "source": [
    "## 1. Featurization"
   ]
  },
  {
   "cell_type": "code",
   "execution_count": 3,
   "id": "61a1292e",
   "metadata": {},
   "outputs": [],
   "source": [
    "target_entity = 'ADMISSIONS'\n",
    "feat = Featurization(es, target_entity)"
   ]
  },
  {
   "cell_type": "code",
   "execution_count": 4,
   "id": "df24d0ab",
   "metadata": {},
   "outputs": [],
   "source": [
    "cutoff_time = es[target_entity].df.loc[:, [es[target_entity].index, es[target_entity].time_index]]\n",
    "cutoff_time.columns = ['instance_id', 'time']\n",
    "cutoff_time['time'] += timedelta(hours=48)"
   ]
  },
  {
   "cell_type": "code",
   "execution_count": 5,
   "id": "b6781ada",
   "metadata": {},
   "outputs": [],
   "source": [
    "fm, fl = feat.generate_features(cutoff_time=cutoff_time)"
   ]
  },
  {
   "cell_type": "code",
   "execution_count": 6,
   "id": "eec3c960",
   "metadata": {},
   "outputs": [],
   "source": [
    "label = es['ADMISSIONS'].df['HOSPITAL_EXPIRE_FLAG']"
   ]
  },
  {
   "cell_type": "markdown",
   "id": "962f5495",
   "metadata": {},
   "source": [
    "## 2. Model Training"
   ]
  },
  {
   "cell_type": "code",
   "execution_count": 7,
   "id": "5b09c7cc-2ace-4506-95e9-f58848a96ed4",
   "metadata": {
    "tags": []
   },
   "outputs": [],
   "source": [
    "fm.index = fm.index.astype('str')\n",
    "\n",
    "model_manager = ModelManager(fm)\n",
    "model_manager.add_model(label=label, 'mortality')"
   ]
  },
  {
   "cell_type": "code",
   "execution_count": 8,
   "id": "3fcd99f8",
   "metadata": {},
   "outputs": [
    {
     "data": {
      "text/html": [
       "<div>\n",
       "<style scoped>\n",
       "    .dataframe tbody tr th:only-of-type {\n",
       "        vertical-align: middle;\n",
       "    }\n",
       "\n",
       "    .dataframe tbody tr th {\n",
       "        vertical-align: top;\n",
       "    }\n",
       "\n",
       "    .dataframe thead th {\n",
       "        text-align: right;\n",
       "    }\n",
       "</style>\n",
       "<table border=\"1\" class=\"dataframe\">\n",
       "  <thead>\n",
       "    <tr style=\"text-align: right;\">\n",
       "      <th></th>\n",
       "      <th>AUROC</th>\n",
       "      <th>Accuracy</th>\n",
       "      <th>Confusion Matrix</th>\n",
       "      <th>F1 Macro</th>\n",
       "      <th>Precision</th>\n",
       "      <th>Recall</th>\n",
       "    </tr>\n",
       "  </thead>\n",
       "  <tbody>\n",
       "    <tr>\n",
       "      <th>mortality</th>\n",
       "      <td>0.983333</td>\n",
       "      <td>0.985972</td>\n",
       "      <td>[[490, 5], [2, 2]]</td>\n",
       "      <td>0.678272</td>\n",
       "      <td>0.640825</td>\n",
       "      <td>0.744949</td>\n",
       "    </tr>\n",
       "  </tbody>\n",
       "</table>\n",
       "</div>"
      ],
      "text/plain": [
       "              AUROC  Accuracy    Confusion Matrix  F1 Macro Precision  \\\n",
       "mortality  0.983333  0.985972  [[490, 5], [2, 2]]  0.678272  0.640825   \n",
       "\n",
       "             Recall  \n",
       "mortality  0.744949  "
      ]
     },
     "execution_count": 8,
     "metadata": {},
     "output_type": "execute_result"
    }
   ],
   "source": [
    "model_manager.fit_all()\n",
    "model_manager.evaluate()"
   ]
  },
  {
   "cell_type": "markdown",
   "id": "a59ad050",
   "metadata": {},
   "source": [
    "## 3. Model Explanation"
   ]
  },
  {
   "cell_type": "code",
   "execution_count": 9,
   "id": "b74e2f91",
   "metadata": {},
   "outputs": [],
   "source": [
    "shap_values = model_manager.explain(target='mortality')"
   ]
  },
  {
   "cell_type": "code",
   "execution_count": 10,
   "id": "b7dd2049",
   "metadata": {},
   "outputs": [
    {
     "data": {
      "text/plain": [
       "MEAN(LABEVENTS.VALUENUM WHERE ITEMID = 5136)                        -1730.733154\n",
       "MEAN(CHARTEVENTS.VALUENUM WHERE ITEMID = 1004)                      -1470.505981\n",
       "MEAN(CHARTEVENTS.VALUENUM WHERE ITEMID = 1006)                      -1279.977051\n",
       "MEAN(LABEVENTS.VALUENUM WHERE ITEMID = 5099)                         -853.524658\n",
       "MEAN(LABEVENTS.VALUENUM WHERE ITEMID = 5002)                         -408.303589\n",
       "                                                                        ...     \n",
       "MEAN(SURGERY_VITAL_SIGNS.VALUE WHERE ITEMID = SV17)                     0.848345\n",
       "MEAN(LABEVENTS.VALUENUM WHERE ITEMID = 5212)                            1.367452\n",
       "TREND(SURGERY_VITAL_SIGNS.VALUE, MONITOR_TIME WHERE ITEMID = SV3)       1.819924\n",
       "MEAN(LABEVENTS.VALUENUM WHERE ITEMID = 5225)                            9.055139\n",
       "MEAN(LABEVENTS.VALUENUM WHERE ITEMID = 6472)                           42.819359\n",
       "Length: 105, dtype: float32"
      ]
     },
     "execution_count": 10,
     "metadata": {},
     "output_type": "execute_result"
    }
   ],
   "source": [
    "shap_values.sum().sort_values()"
   ]
  }
 ],
 "metadata": {
  "kernelspec": {
   "display_name": "Python (myenv)",
   "language": "python",
   "name": "myenv"
  },
  "language_info": {
   "codemirror_mode": {
    "name": "ipython",
    "version": 3
   },
   "file_extension": ".py",
   "mimetype": "text/x-python",
   "name": "python",
   "nbconvert_exporter": "python",
   "pygments_lexer": "ipython3",
   "version": "3.6.8"
  }
 },
 "nbformat": 4,
 "nbformat_minor": 5
}

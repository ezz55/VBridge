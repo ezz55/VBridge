{
 "cells": [
  {
   "cell_type": "markdown",
   "id": "suspended-provision",
   "metadata": {},
   "source": [
    "Note: with the direct mean calculation, the total contribution to the mean of all points will sum to 0 - meaning it is impossible to distribute the shap values among them and total anything other than 0\n",
    "Solution 1: avoid negative contributions\n",
    "Solution 2 (currently used): scale around mean, not 0 - so a point equal to the mean contributes \"mean\" times"
   ]
  },
  {
   "cell_type": "code",
   "execution_count": 41,
   "id": "otherwise-ancient",
   "metadata": {},
   "outputs": [],
   "source": [
    "import sys\n",
    "import os\n",
    "import pandas as pd\n",
    "import pickle\n",
    "import featuretools as ft\n",
    "import matplotlib.pyplot as plt\n",
    "import numpy as np\n",
    "import shap\n",
    "\n",
    "module_path = os.path.abspath(os.path.join('..'))\n",
    "if module_path not in sys.path:\n",
    "    sys.path.append(module_path)\n",
    "from model.data import get_patient_records, load_pic"
   ]
  },
  {
   "cell_type": "code",
   "execution_count": 42,
   "id": "major-tourism",
   "metadata": {},
   "outputs": [],
   "source": [
    "ROOT = os.path.abspath('../')\n",
    "# PIC_dir = os.path.join(ROOT, 'data/raw/PIC/')\n",
    "PIC_dir = os.path.join(ROOT, 'data/raw/PIC_mini/')\n",
    "output_dir = os.path.join(ROOT, 'data/intermediate/')"
   ]
  },
  {
   "cell_type": "code",
   "execution_count": 43,
   "id": "approved-butter",
   "metadata": {},
   "outputs": [],
   "source": [
    "def save_entityset(entityset):  # saves a serialized entity set in output_dir/entityset\n",
    "    with open(os.path.join(output_dir, 'entityset'), 'wb') as f:\n",
    "        pickle.dump(entityset, f)\n",
    "        \n",
    "def load_entityset(): # loads a serialized entiy set\n",
    "    with open(os.path.join(output_dir, 'entityset'), 'rb') as f:\n",
    "        return pickle.load(f)\n",
    "    \n",
    "def save_fm(df, fm_list, token=''):  # saves a fm_list both as a pickle and a csv\n",
    "    if str(token) != '':\n",
    "        token = '_' + str(token)\n",
    "    with open(os.path.join(output_dir, 'fl{}.pkl'.format(token)), 'wb') as f:\n",
    "        pickle.dump(fm_list, f)\n",
    "    df.to_csv(os.path.join(output_dir, 'fm{}.csv'.format(token)))\n",
    "    \n",
    "def load_fm(token=None): # loads an fm_list both as an object and a DataFrame\n",
    "    if str(token) != '':\n",
    "        token = '_' + str(token)\n",
    "    with open(os.path.join(output_dir, 'fl{}.pkl'.format(token)), 'rb') as f:\n",
    "        fm_list = pickle.load(f)\n",
    "    df = pd.read_csv(os.path.join(output_dir, 'fm{}.csv'.format(token)), index_col=0)\n",
    "    return df, fm_list"
   ]
  },
  {
   "cell_type": "code",
   "execution_count": 44,
   "id": "attempted-ranch",
   "metadata": {},
   "outputs": [
    {
     "name": "stdout",
     "output_type": "stream",
     "text": [
      "Prune (0/1934) rows.\n",
      "Prune (0/1996) rows.\n",
      "Prune (0/2108) rows.\n",
      "Prune (0/1838) rows.\n",
      "Prune (0/3778) rows.\n",
      "Prune (0/754213) rows.\n",
      "Prune (0/75981) rows.\n",
      "Prune (0/1724805) rows.\n",
      "Prune (0/29547) rows.\n",
      "Prune (0/39872) rows.\n",
      "Prune (0/450989) rows.\n",
      "Prune (253/2837) rows.\n",
      "Prune (0/7849) rows.\n",
      "Prune (0/171332) rows.\n",
      "Prune (0/479) rows.\n",
      "Prune (0/832) rows.\n",
      "Prune (0/25379) rows.\n"
     ]
    }
   ],
   "source": [
    "es = load_pic()"
   ]
  },
  {
   "cell_type": "code",
   "execution_count": 45,
   "id": "respiratory-sensitivity",
   "metadata": {},
   "outputs": [],
   "source": [
    "df, fm_list = load_fm('signal_only')\n",
    "\n",
    "model = pickle.load(open(\"model.pkl\", \"rb\"))\n",
    "X_train = pd.read_csv(\"train.csv\", index_col=0)\n",
    "X_test = pd.read_csv(\"test.csv\", index_col=0)\n",
    "transformers = pickle.load(open(\"transformers.pkl\", \"rb\"))\n",
    "\n",
    "explainer = shap.TreeExplainer(model)"
   ]
  },
  {
   "cell_type": "code",
   "execution_count": 46,
   "id": "governmental-metallic",
   "metadata": {},
   "outputs": [],
   "source": [
    "# Helper functions for explanation\n",
    "\n",
    "def get_record_id_from_name(record_name, feature_table_name):\n",
    "    feature_rows = es[\"D_ITEMS\"].df.loc[es[\"D_ITEMS\"].df[\"LABEL\"] == record_name]\n",
    "    record_id = feature_rows.loc[feature_rows[\"LINKSTO\"].str.lower() == feature_table_name.lower()][\"ITEMID\"][0]\n",
    "    return record_id\n",
    "\n",
    "def extract_signal(uni_oper_id, feature_table_name, record_id):\n",
    "    full_table = es[feature_table_name].df\n",
    "    oper_table = full_table.loc[full_table[\"UNI_OPER_ID\"] == uni_oper_id]\n",
    "\n",
    "    feature_table = oper_table.loc[oper_table[\"ITEMID\"] == record_id]\n",
    "    feature_table.sort_values(by=\"MONITOR_TIME\", axis=\"index\", inplace=True)\n",
    "\n",
    "    feature_signal = feature_table[\"VALUE\"]\n",
    "\n",
    "    return feature_signal, feature_table\n",
    "\n",
    "def visualize_signal(signal, c=None, vmin=None, vmax=None):\n",
    "    plt.plot(np.arange(len(signal)), signal, c=\"black\", zorder=1)\n",
    "    plt.scatter(np.arange(len(signal)), signal, c=c, cmap=\"Reds_r\", vmin=vmin, vmax=vmax, zorder=2)\n",
    "    if c is not None:\n",
    "        plt.colorbar()\n",
    "        \n",
    "def distribute_shap(shap_value, v):\n",
    "    v_norm = v / sum(v)\n",
    "    return shap_value * v_norm"
   ]
  },
  {
   "cell_type": "code",
   "execution_count": 58,
   "id": "freelance-closing",
   "metadata": {},
   "outputs": [],
   "source": [
    "# Helper functions to run occlusion algorithm\n",
    "\n",
    "def occlude(signal, algorithm, start, size):\n",
    "    # algorithm - one of:\n",
    "    #    linear - linearly connect the window endpoints\n",
    "    #    mean - fill with constant equal to window mean\n",
    "    #    start - fill with constant equal to first endpoint\n",
    "    #    mean_endpoints - fill with constant equal to mean of endpoints\n",
    "    \n",
    "    occluded = signal.copy()\n",
    "    endpoint_1 = signal[start]\n",
    "    if start+size-1 < len(signal):\n",
    "        endpoint_2 =signal[start+size-1]\n",
    "    else:\n",
    "        endpoint_2 = signal[len(signal)-1]\n",
    "        \n",
    "    if algorithm == \"linear\":\n",
    "        occluded[start:start+size] = np.linspace(endpoint_1, endpoint_2, len(occluded[start:start+size]))\n",
    "        return occluded\n",
    "            \n",
    "    if algorithm == \"mean\":\n",
    "        value = signal[start:start+size].mean()\n",
    "        \n",
    "    if algorithm == \"start\":\n",
    "        value = signal[start]\n",
    "        \n",
    "    if algorithm == \"mean_endpoints\":\n",
    "        value = (endpoint_1 + endpoint_2) / 2\n",
    "    \n",
    "    occluded[start:start+size] = value\n",
    "    return occluded\n",
    "\n",
    "def run_occlusion(signal, primitives, algorithm, window_size=5, primitive_args=None):\n",
    "    base_values = []\n",
    "    for primitive in primitives:\n",
    "        base_values.append(primitive(signal))\n",
    "    v = np.zeros((len(signal), len(primitives)))\n",
    "    hits = np.zeros(len(signal))\n",
    "    for start in range(len(signal)):\n",
    "        occluded = occlude(signal, \"linear\", start, window_size)\n",
    "        new_values = []\n",
    "        for primitive in primitives:\n",
    "            new_values.append(primitive(occluded))\n",
    "        for i in range(len(base_values)):\n",
    "            v[start:start+window_size, i] += ((base_values[i] - new_values[i]) / np.abs(base_values[i])) \n",
    "        hits[start:start+window_size] += 1\n",
    "\n",
    "    v = v / hits.reshape(-1, 1)\n",
    "    return v\n",
    "\n",
    "def mean_contributions(signal):\n",
    "    # Calculate the importance of each point to the mean\n",
    "    mean = np.mean(signal)\n",
    "    n = len(signal)\n",
    "    new_means = np.array([(np.sum(signal) - x + mean) / n for x in signal])\n",
    "    v = (-new_means) / (np.abs(mean))\n",
    "    return v"
   ]
  },
  {
   "cell_type": "code",
   "execution_count": 59,
   "id": "impressive-method",
   "metadata": {},
   "outputs": [],
   "source": [
    "def occlusion_explain(record_id, feature_table_name, primitive, primitive_name, uni_oper_id, \n",
    "                      algorithm=\"linear\", window_size=5,\n",
    "                      return_signal=False, record_format=True):\n",
    "    signal, signal_table = extract_signal(uni_oper_id, feature_table_name, record_id)\n",
    "    signal = signal.to_numpy()\n",
    "    \n",
    "    if primitive_name == \"MEAN\":\n",
    "        v = mean_contributions(signal)\n",
    "    else:\n",
    "        v = run_occlusion(signal, [primitive], algorithm, window_size)\n",
    "        \n",
    "    if uni_oper_id in X_train.index:\n",
    "        shap_values = explainer.shap_values(X_train.loc[[uni_oper_id]].to_numpy())[0]\n",
    "    else:\n",
    "        shap_values = explainer.shap_values(X_test.loc[[uni_oper_id]].to_numpy())[0]\n",
    "    feature_name = \"%s(%s.VALUE WHERE ITEMID = %s)\" % (primitive_name, feature_table_name, record_id)\n",
    "    feature_ind = X_train.columns.get_loc(feature_name)\n",
    "    feature_shap_value = shap_values[feature_ind]\n",
    "    \n",
    "    weighted_contribution = distribute_shap(feature_shap_value, v).reshape(-1)\n",
    "    if not record_format:\n",
    "        if return_signal:\n",
    "            return weighted_contribution, signal\n",
    "        return weighted_contribution\n",
    "    records_to_contributions_df = pd.DataFrame({\"ROW_ID\": signal_table[\"ROW_ID\"], \"CONTRIBUTION\": weighted_contribution})\n",
    "    records_to_contributions = records_to_contributions_df.to_dict(orient='records')\n",
    "    return records_to_contributions"
   ]
  },
  {
   "cell_type": "code",
   "execution_count": 61,
   "id": "received-delhi",
   "metadata": {},
   "outputs": [
    {
     "name": "stdout",
     "output_type": "stream",
     "text": [
      "[{'ROW_ID': 479501, 'CONTRIBUTION': 0.0032814250227873277}, {'ROW_ID': 479504, 'CONTRIBUTION': 0.0032695594749025795}, {'ROW_ID': 479511, 'CONTRIBUTION': 0.0032646736610676824}, {'ROW_ID': 479518, 'CONTRIBUTION': 0.0032716533951175344}, {'ROW_ID': 479525, 'CONTRIBUTION': 0.0032779351557624013}, {'ROW_ID': 479544, 'CONTRIBUTION': 0.003280727049382342}, {'ROW_ID': 479554, 'CONTRIBUTION': 0.0032758412355474464}, {'ROW_ID': 479566, 'CONTRIBUTION': 0.0032779351557624013}, {'ROW_ID': 479532, 'CONTRIBUTION': 0.0032779351557624013}, {'ROW_ID': 479579, 'CONTRIBUTION': 0.0032814250227873277}, {'ROW_ID': 479589, 'CONTRIBUTION': 0.0032842169164072686}, {'ROW_ID': 479599, 'CONTRIBUTION': 0.0032723513685225195}, {'ROW_ID': 479609, 'CONTRIBUTION': 0.0032814250227873277}, {'ROW_ID': 479619, 'CONTRIBUTION': 0.0032800290759773575}, {'ROW_ID': 479629, 'CONTRIBUTION': 0.0032842169164072686}, {'ROW_ID': 479636, 'CONTRIBUTION': 0.0032863108366222244}, {'ROW_ID': 479646, 'CONTRIBUTION': 0.0032877067834321946}, {'ROW_ID': 479656, 'CONTRIBUTION': 0.00328980070364715}, {'ROW_ID': 479666, 'CONTRIBUTION': 0.0032932905706720764}, {'ROW_ID': 479676, 'CONTRIBUTION': 0.0032925925972670913}, {'ROW_ID': 479686, 'CONTRIBUTION': 0.003287008810027209}, {'ROW_ID': 479695, 'CONTRIBUTION': 0.003276539208952431}, {'ROW_ID': 479705, 'CONTRIBUTION': 0.0032521101397779487}, {'ROW_ID': 479715, 'CONTRIBUTION': 0.0032674655546876233}, {'ROW_ID': 479725, 'CONTRIBUTION': 0.0032737473153324906}, {'ROW_ID': 479792, 'CONTRIBUTION': 0.0033400547888060867}, {'ROW_ID': 479802, 'CONTRIBUTION': 0.003287008810027209}, {'ROW_ID': 479812, 'CONTRIBUTION': 0.0032542040599929044}, {'ROW_ID': 479822, 'CONTRIBUTION': 0.0032597878472327858}, {'ROW_ID': 479832, 'CONTRIBUTION': 0.0032569959536128453}, {'ROW_ID': 479842, 'CONTRIBUTION': 0.0032590898738278007}, {'ROW_ID': 479852, 'CONTRIBUTION': 0.0032556000068028747}, {'ROW_ID': 479862, 'CONTRIBUTION': 0.0032590898738278007}, {'ROW_ID': 479872, 'CONTRIBUTION': 0.0032597878472327858}, {'ROW_ID': 479882, 'CONTRIBUTION': 0.0032597878472327858}, {'ROW_ID': 479892, 'CONTRIBUTION': 0.003261881767447741}]\n"
     ]
    },
    {
     "data": {
      "image/png": "[encoded data removed]",
      "text/plain": [
       "<Figure size 432x288 with 2 Axes>"
      ]
     },
     "metadata": {
      "needs_background": "light"
     },
     "output_type": "display_data"
    }
   ],
   "source": [
    "pulse_id = get_record_id_from_name(\"Pulse\", \"SURGERY_VITAL_SIGNS\")\n",
    "pulse_contributions, pulse_signal = occlusion_explain(pulse_id, \"SURGERY_VITAL_SIGNS\", ft.primitives.Mean(), \n",
    "                                                      \"MEAN\", 885705, return_signal=True, record_format=False)\n",
    "\n",
    "record_contributions = occlusion_explain(pulse_id, \"SURGERY_VITAL_SIGNS\", ft.primitives.Mean(), \n",
    "                                                      \"MEAN\", 885705)\n",
    "print(record_contributions)\n",
    "visualize_signal(pulse_signal, c=pulse_contributions)"
   ]
  },
  {
   "cell_type": "code",
   "execution_count": 56,
   "id": "dried-efficiency",
   "metadata": {},
   "outputs": [],
   "source": [
    "def transform(x):\n",
    "    trans_x = x.copy()\n",
    "    for transformer in transformers:\n",
    "        trans_x = transformer.transform(trans_x)\n",
    "    return trans_x\n",
    "\n",
    "def run_occlusion_shap(signal, primitive, x, feature_name, algorithm, window_size=5):\n",
    "    shap_values = explainer.shap_values(transform(x.to_numpy()))[0]\n",
    "    feature_ind = x.columns.get_loc(feature_name)\n",
    "    base_value = shap_values[feature_ind]\n",
    "    \n",
    "    v = np.zeros(len(signal))\n",
    "    hits = np.zeros(len(signal))\n",
    "    for start in range(len(signal)):\n",
    "        occluded = occlude(signal, \"linear\", start, window_size)\n",
    "        new_value = primitive(occluded)\n",
    "        x_copy = x.copy()\n",
    "        x_copy[feature_name] = new_value\n",
    "        new_shap_value = explainer.shap_values(transform(x_copy.to_numpy()))[0][feature_ind]\n",
    "        v[start:start+window_size] += ((base_value - new_shap_value) / np.abs(base_value)) \n",
    "        hits[start:start+window_size] += 1\n",
    "    v = v / hits\n",
    "    return v\n",
    "\n",
    "def occlusion_explain_shap(record_id, feature_table_name, primitive, primitive_name, uni_oper_id, \n",
    "                           algorithm=\"linear\", window_size=5,\n",
    "                           return_signal=False, record_format=True):\n",
    "    signal, signal_table = extract_signal(uni_oper_id, feature_table_name, record_id)\n",
    "    signal = signal.to_numpy()\n",
    "    \n",
    "    feature_name = \"%s(%s.VALUE WHERE ITEMID = %s)\" % (primitive_name, feature_table_name, record_id)\n",
    "    if uni_oper_id in X_train.index:\n",
    "        x = X_train.loc[[uni_oper_id]]\n",
    "    else:\n",
    "        x = X_test.loc[[uni_oper_id]]\n",
    "\n",
    "    v = run_occlusion_shap(signal, primitive, x, feature_name, algorithm, window_size)\n",
    "    if not record_format:\n",
    "        if return_signal:\n",
    "            return v, signal\n",
    "        return v\n",
    "    records_to_contributions_df = pd.DataFrame({\"ROW_ID\": signal_table[\"ROW_ID\"], \"CONTRIBUTION\": v})\n",
    "    records_to_contributions = records_to_contributions_df.to_dict(orient='records')\n",
    "    return records_to_contributions"
   ]
  },
  {
   "cell_type": "code",
   "execution_count": 57,
   "id": "transsexual-conference",
   "metadata": {},
   "outputs": [
    {
     "name": "stdout",
     "output_type": "stream",
     "text": [
      "[{'ROW_ID': 479501, 'CONTRIBUTION': 0.0}, {'ROW_ID': 479504, 'CONTRIBUTION': 0.0}, {'ROW_ID': 479511, 'CONTRIBUTION': 0.0}, {'ROW_ID': 479518, 'CONTRIBUTION': 0.0}, {'ROW_ID': 479525, 'CONTRIBUTION': 0.0}, {'ROW_ID': 479544, 'CONTRIBUTION': 0.0}, {'ROW_ID': 479554, 'CONTRIBUTION': 0.0}, {'ROW_ID': 479566, 'CONTRIBUTION': 0.0}, {'ROW_ID': 479532, 'CONTRIBUTION': 0.0}, {'ROW_ID': 479579, 'CONTRIBUTION': 0.0}, {'ROW_ID': 479589, 'CONTRIBUTION': 0.0}, {'ROW_ID': 479599, 'CONTRIBUTION': 0.0}, {'ROW_ID': 479609, 'CONTRIBUTION': 0.0}, {'ROW_ID': 479619, 'CONTRIBUTION': 0.0}, {'ROW_ID': 479629, 'CONTRIBUTION': 0.0}, {'ROW_ID': 479636, 'CONTRIBUTION': 0.0}, {'ROW_ID': 479646, 'CONTRIBUTION': 0.0}, {'ROW_ID': 479656, 'CONTRIBUTION': 0.0}, {'ROW_ID': 479666, 'CONTRIBUTION': 0.0}, {'ROW_ID': 479676, 'CONTRIBUTION': 0.0}, {'ROW_ID': 479686, 'CONTRIBUTION': 0.0}, {'ROW_ID': 479695, 'CONTRIBUTION': 0.0}, {'ROW_ID': 479705, 'CONTRIBUTION': 0.0}, {'ROW_ID': 479715, 'CONTRIBUTION': 0.0}, {'ROW_ID': 479725, 'CONTRIBUTION': 0.0}, {'ROW_ID': 479792, 'CONTRIBUTION': 0.0}, {'ROW_ID': 479802, 'CONTRIBUTION': 0.0}, {'ROW_ID': 479812, 'CONTRIBUTION': 0.0}, {'ROW_ID': 479822, 'CONTRIBUTION': 0.0}, {'ROW_ID': 479832, 'CONTRIBUTION': 0.0}, {'ROW_ID': 479842, 'CONTRIBUTION': 0.0}, {'ROW_ID': 479852, 'CONTRIBUTION': 0.0}, {'ROW_ID': 479862, 'CONTRIBUTION': 0.0}, {'ROW_ID': 479872, 'CONTRIBUTION': 0.0}, {'ROW_ID': 479882, 'CONTRIBUTION': 0.0}, {'ROW_ID': 479892, 'CONTRIBUTION': 0.0}]\n"
     ]
    },
    {
     "data": {
      "image/png": "[encoded data removed]",
      "text/plain": [
       "<Figure size 432x288 with 2 Axes>"
      ]
     },
     "metadata": {
      "needs_background": "light"
     },
     "output_type": "display_data"
    }
   ],
   "source": [
    "pulse_id = get_record_id_from_name(\"Pulse\", \"SURGERY_VITAL_SIGNS\")\n",
    "pulse_contributions, pulse_signal = occlusion_explain_shap(pulse_id, \"SURGERY_VITAL_SIGNS\", ft.primitives.Std(), \n",
    "                                                           \"STD\", 885705, return_signal=True, record_format=False, \n",
    "                                                           window_size=5)\n",
    "\n",
    "record_contributions = occlusion_explain_shap(pulse_id, \"SURGERY_VITAL_SIGNS\", ft.primitives.Std(), \n",
    "                                                           \"STD\", 885705, window_size=5)\n",
    "visualize_signal(pulse_signal, c=pulse_contributions)"
   ]
  },
  {
   "cell_type": "code",
   "execution_count": null,
   "id": "olympic-bunny",
   "metadata": {},
   "outputs": [],
   "source": []
  }
 ],
 "metadata": {
  "kernelspec": {
   "display_name": "pic-venv",
   "language": "python",
   "name": "pic-venv"
  },
  "language_info": {
   "codemirror_mode": {
    "name": "ipython",
    "version": 3
   },
   "file_extension": ".py",
   "mimetype": "text/x-python",
   "name": "python",
   "nbconvert_exporter": "python",
   "pygments_lexer": "ipython3",
   "version": "3.8.5"
  }
 },
 "nbformat": 4,
 "nbformat_minor": 5
}

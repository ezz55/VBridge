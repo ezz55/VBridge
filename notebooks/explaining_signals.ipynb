{
 "cells": [
  {
   "cell_type": "markdown",
   "id": "suspended-provision",
   "metadata": {},
   "source": [
    "Note: with the direct mean calculation, the total contribution to the mean of all points will sum to 0 - meaning it is impossible to distribute the shap values among them and total anything other than 0\n",
    "\n",
    "Solution 1: avoid negative contributions\n",
    "\n",
    "Solution 2 (currently used): scale around mean, not 0 - so a point equal to the mean contributes \"mean\" times"
   ]
  },
  {
   "cell_type": "code",
   "execution_count": 1,
   "id": "otherwise-ancient",
   "metadata": {},
   "outputs": [],
   "source": [
    "# IMPORTS\n",
    "\n",
    "import sys\n",
    "import os\n",
    "import pandas as pd\n",
    "import pickle\n",
    "import featuretools as ft\n",
    "import matplotlib.pyplot as plt\n",
    "import numpy as np\n",
    "import shap\n",
    "\n",
    "module_path = os.path.abspath(os.path.join('..'))\n",
    "if module_path not in sys.path:\n",
    "    sys.path.append(module_path)\n",
    "from model.data import get_patient_records, load_pic"
   ]
  },
  {
   "cell_type": "code",
   "execution_count": 2,
   "id": "major-tourism",
   "metadata": {},
   "outputs": [],
   "source": [
    "# DIRS FOR LOADING AND SAVING\n",
    "\n",
    "ROOT = os.path.abspath('../')\n",
    "PIC_dir = os.path.join(ROOT, 'data/raw/PIC_mini/')\n",
    "input_dir = os.path.join(ROOT, 'data/inputs')\n",
    "output_dir = os.path.join(ROOT, 'data/intermediate/')"
   ]
  },
  {
   "cell_type": "code",
   "execution_count": 3,
   "id": "approved-butter",
   "metadata": {},
   "outputs": [],
   "source": [
    "# FUNCTIONS FOR SAVING A LOADING ENTITY SET\n",
    "\n",
    "def save_entityset(entityset):  # saves a serialized entity set in output_dir/entityset\n",
    "    with open(os.path.join(output_dir, 'entityset'), 'wb') as f:\n",
    "        pickle.dump(entityset, f)\n",
    "        \n",
    "def load_entityset(): # loads a serialized entiy set\n",
    "    with open(os.path.join(output_dir, 'entityset'), 'rb') as f:\n",
    "        return pickle.load(f)\n",
    "    \n",
    "def save_fm(df, fm_list, token=''):  # saves a fm_list both as a pickle and a csv\n",
    "    if str(token) != '':\n",
    "        token = '_' + str(token)\n",
    "    with open(os.path.join(output_dir, 'fl{}.pkl'.format(token)), 'wb') as f:\n",
    "        pickle.dump(fm_list, f)\n",
    "    df.to_csv(os.path.join(output_dir, 'fm{}.csv'.format(token)))\n",
    "    \n",
    "def load_fm(token=None): # loads an fm_list both as an object and a DataFrame\n",
    "    if str(token) != '':\n",
    "        token = '_' + str(token)\n",
    "    with open(os.path.join(output_dir, 'fl{}.pkl'.format(token)), 'rb') as f:\n",
    "        fm_list = pickle.load(f)\n",
    "    df = pd.read_csv(os.path.join(output_dir, 'fm{}.csv'.format(token)), index_col=0)\n",
    "    return df, fm_list"
   ]
  },
  {
   "cell_type": "code",
   "execution_count": 4,
   "id": "attempted-ranch",
   "metadata": {},
   "outputs": [
    {
     "name": "stdout",
     "output_type": "stream",
     "text": [
      "Prune (0/1934) rows.\n",
      "Prune (0/1996) rows.\n",
      "Prune (0/2108) rows.\n",
      "Prune (0/1838) rows.\n",
      "Prune (0/3778) rows.\n",
      "Prune (0/754213) rows.\n",
      "Prune (0/75981) rows.\n",
      "Prune (0/1724805) rows.\n",
      "Prune (0/29547) rows.\n",
      "Prune (0/39872) rows.\n",
      "Prune (0/450989) rows.\n",
      "Prune (253/2837) rows.\n",
      "Prune (0/7849) rows.\n",
      "Prune (0/171332) rows.\n",
      "Prune (0/479) rows.\n",
      "Prune (0/832) rows.\n",
      "Prune (0/25379) rows.\n"
     ]
    }
   ],
   "source": [
    "# LOAD THE ENTITY SET\n",
    "\n",
    "es = load_pic()"
   ]
  },
  {
   "cell_type": "code",
   "execution_count": 5,
   "id": "respiratory-sensitivity",
   "metadata": {},
   "outputs": [],
   "source": [
    "# REQUIRED INPUTS\n",
    "\n",
    "df, fm_list = load_fm('signal_only')\n",
    "\n",
    "model = pickle.load(open(os.path.join(input_dir, \"model.pkl\"), \"rb\"))\n",
    "X_train = pd.read_csv(os.path.join(input_dir, \"train.csv\"), index_col=0)\n",
    "X_test = pd.read_csv(os.path.join(input_dir, \"test.csv\"), index_col=0)\n",
    "transformers = pickle.load(open(os.path.join(input_dir, \"transformers.pkl\"), \"rb\"))\n",
    "\n",
    "explainer = shap.TreeExplainer(model)"
   ]
  },
  {
   "cell_type": "code",
   "execution_count": 6,
   "id": "governmental-metallic",
   "metadata": {},
   "outputs": [],
   "source": [
    "# HELPER FUNCTIONS FOR EXPLANATION\n",
    "\n",
    "def get_record_id_from_name(record_name, feature_table_name):\n",
    "    # Get the corresponding record code from an English feature name \n",
    "    feature_rows = es[\"D_ITEMS\"].df.loc[es[\"D_ITEMS\"].df[\"LABEL\"] == record_name]\n",
    "    record_id = feature_rows.loc[feature_rows[\"LINKSTO\"].str.lower() == feature_table_name.lower()][\"ITEMID\"][0]\n",
    "    return record_id\n",
    "\n",
    "def extract_signal(uni_oper_id, feature_table_name, record_id):\n",
    "    # Extract all records for a given record type and uni oper id\n",
    "    full_table = es[feature_table_name].df\n",
    "    oper_table = full_table.loc[full_table[\"UNI_OPER_ID\"] == uni_oper_id]\n",
    "\n",
    "    feature_table = oper_table.loc[oper_table[\"ITEMID\"] == record_id]\n",
    "    feature_table.sort_values(by=\"MONITOR_TIME\", axis=\"index\", inplace=True)\n",
    "\n",
    "    feature_signal = feature_table[\"VALUE\"]\n",
    "\n",
    "    return feature_signal, feature_table\n",
    "\n",
    "def visualize_signal(signal, c=None, vmin=None, vmax=None):\n",
    "    # Debugging functions, visualize the signal, colored by contribution\n",
    "    plt.plot(np.arange(len(signal)), signal, c=\"black\", zorder=1)\n",
    "    plt.scatter(np.arange(len(signal)), signal, c=c, cmap=\"Reds_r\", vmin=vmin, vmax=vmax, zorder=2)\n",
    "    if c is not None:\n",
    "        plt.colorbar()\n",
    "        \n",
    "def distribute_shap(shap_value, v):\n",
    "    # Fairly distribute a shap value across a time series according to contribution\n",
    "    if sum(v) == 0:\n",
    "        print(\"ERROR: Sum of contributions is 0, cannot distribute value\")\n",
    "    v_norm = v / sum(v)\n",
    "    return shap_value * v_norm"
   ]
  },
  {
   "cell_type": "code",
   "execution_count": 7,
   "id": "freelance-closing",
   "metadata": {},
   "outputs": [],
   "source": [
    "# Helper functions to run occlusion algorithm\n",
    "\n",
    "def occlude(signal, algorithm, start, size):\n",
    "    # Occlude a window of a signal\n",
    "    # algorithm - one of:\n",
    "    #    linear - linearly connect the window endpoints\n",
    "    #    mean - fill with constant equal to window mean\n",
    "    #    start - fill with constant equal to first endpoint\n",
    "    #    mean_endpoints - fill with constant equal to mean of endpoints\n",
    "    \n",
    "    occluded = signal.copy()\n",
    "    endpoint_1 = signal[start]\n",
    "    if start+size-1 < len(signal):\n",
    "        endpoint_2 =signal[start+size-1]\n",
    "    else:\n",
    "        endpoint_2 = signal[len(signal)-1]\n",
    "        \n",
    "    if algorithm == \"linear\":\n",
    "        occluded[start:start+size] = np.linspace(endpoint_1, endpoint_2, len(occluded[start:start+size]))\n",
    "        return occluded\n",
    "            \n",
    "    if algorithm == \"mean\":\n",
    "        value = signal[start:start+size].mean()\n",
    "        \n",
    "    if algorithm == \"start\":\n",
    "        value = signal[start]\n",
    "        \n",
    "    if algorithm == \"mean_endpoints\":\n",
    "        value = (endpoint_1 + endpoint_2) / 2\n",
    "    \n",
    "    occluded[start:start+size] = value\n",
    "    return occluded\n",
    "\n",
    "def run_occlusion(signal, primitive, algorithm, window_size=5, primitive_args=None):\n",
    "    # Run the occlusion algorithm on the signal \n",
    "    \n",
    "    if primitive_args is None:\n",
    "        primitive_args = []\n",
    "    base_value = primitive(signal, *primitive_args)\n",
    "    v = np.zeros(len(signal))\n",
    "    hits = np.zeros(len(signal))\n",
    "    for start in range(len(signal)):\n",
    "        occluded = occlude(signal, \"linear\", start, window_size)\n",
    "        new_value = primitive(occluded, *primitive_args)\n",
    "        v[start:start+window_size] += (base_value - new_value) / np.abs(base_value)\n",
    "        hits[start:start+window_size] += 1\n",
    "\n",
    "    v = v / hits\n",
    "    return v\n",
    "\n",
    "def mean_contributions(signal):\n",
    "    # Calculate the importance of each point to the mean\n",
    "    \n",
    "    mean = np.mean(signal)\n",
    "    n = len(signal)\n",
    "    new_means = np.array([(np.sum(signal) - x + mean) / n for x in signal])\n",
    "    v = (-new_means) / (np.abs(mean))\n",
    "    return v"
   ]
  },
  {
   "cell_type": "code",
   "execution_count": 8,
   "id": "impressive-method",
   "metadata": {},
   "outputs": [],
   "source": [
    "def occlusion_explain(record_id, feature_table_name, primitive, feature_name, uni_oper_id, \n",
    "                      algorithm=\"linear\", window_size=5,\n",
    "                      return_signal=False, record_format=True):\n",
    "    # Calculate signal contributions using the occlusion algorithm\n",
    "    \n",
    "    signal, signal_table = extract_signal(uni_oper_id, feature_table_name, record_id)\n",
    "    signal = signal.to_numpy()\n",
    "    \n",
    "    if isinstance(primitive, ft.primitives.Mean):\n",
    "        v = mean_contributions(signal)\n",
    "    if isinstance(primitive, ft.primitives.Trend):\n",
    "        v = run_occlusion(signal, primitive, algorithm, window_size, \n",
    "                          primitive_args=[signal_table[\"MONITOR_TIME\"].to_numpy()])\n",
    "    else:\n",
    "        v = run_occlusion(signal, primitive, algorithm, window_size, primitive_args=[])\n",
    "        \n",
    "    if uni_oper_id in X_train.index:\n",
    "        shap_values = explainer.shap_values(X_train.loc[[uni_oper_id]].to_numpy())[0]\n",
    "    else:\n",
    "        shap_values = explainer.shap_values(X_test.loc[[uni_oper_id]].to_numpy())[0]\n",
    "    feature_ind = X_train.columns.get_loc(feature_name)\n",
    "    feature_shap_value = shap_values[feature_ind]\n",
    "    \n",
    "    weighted_contribution = distribute_shap(feature_shap_value, v).reshape(-1)\n",
    "    if not record_format:\n",
    "        if return_signal:\n",
    "            return weighted_contribution, signal\n",
    "        return weighted_contribution\n",
    "    records_to_contributions_df = pd.DataFrame({\"ROW_ID\": signal_table[\"ROW_ID\"], \"CONTRIBUTION\": weighted_contribution})\n",
    "    records_to_contributions = records_to_contributions_df.to_dict(orient='records')\n",
    "    return records_to_contributions"
   ]
  },
  {
   "cell_type": "code",
   "execution_count": 9,
   "id": "received-delhi",
   "metadata": {},
   "outputs": [
    {
     "name": "stdout",
     "output_type": "stream",
     "text": [
      "[{'ROW_ID': 479501, 'CONTRIBUTION': 0.03121110373655841}, {'ROW_ID': 479504, 'CONTRIBUTION': 0.020733135168654864}, {'ROW_ID': 479511, 'CONTRIBUTION': 0.008495763273286645}, {'ROW_ID': 479518, 'CONTRIBUTION': 0.004344638359467622}, {'ROW_ID': 479525, 'CONTRIBUTION': 0.0033451675631581686}, {'ROW_ID': 479544, 'CONTRIBUTION': -0.001345598359364203}, {'ROW_ID': 479554, 'CONTRIBUTION': -0.0030627425343737313}, {'ROW_ID': 479566, 'CONTRIBUTION': -0.0017924575160187296}, {'ROW_ID': 479532, 'CONTRIBUTION': -0.00018200724077222156}, {'ROW_ID': 479579, 'CONTRIBUTION': 0.00030250858638689954}, {'ROW_ID': 479589, 'CONTRIBUTION': 0.0003251025886896516}, {'ROW_ID': 479599, 'CONTRIBUTION': -0.000578657503420619}, {'ROW_ID': 479609, 'CONTRIBUTION': 0.0015614966035905238}, {'ROW_ID': 479619, 'CONTRIBUTION': 0.0013945520310201511}, {'ROW_ID': 479629, 'CONTRIBUTION': 0.0011171478916362993}, {'ROW_ID': 479636, 'CONTRIBUTION': -0.0004920471612600553}, {'ROW_ID': 479646, 'CONTRIBUTION': -8.40998974602862e-05}, {'ROW_ID': 479656, 'CONTRIBUTION': -0.00037907714974627844}, {'ROW_ID': 479666, 'CONTRIBUTION': 0.0001217565679648381}, {'ROW_ID': 479676, 'CONTRIBUTION': -0.0006351425091775285}, {'ROW_ID': 479686, 'CONTRIBUTION': -0.0019217454180845235}, {'ROW_ID': 479695, 'CONTRIBUTION': -0.007074433165463257}, {'ROW_ID': 479705, 'CONTRIBUTION': 0.0012552223501531416}, {'ROW_ID': 479715, 'CONTRIBUTION': 0.015419151349281445}, {'ROW_ID': 479725, 'CONTRIBUTION': 0.026314481348610908}, {'ROW_ID': 479792, 'CONTRIBUTION': 0.013843847299839238}, {'ROW_ID': 479802, 'CONTRIBUTION': 0.011717500638679778}, {'ROW_ID': 479812, 'CONTRIBUTION': 0.005340971099901696}, {'ROW_ID': 479822, 'CONTRIBUTION': -0.010349308277012857}, {'ROW_ID': 479832, 'CONTRIBUTION': -0.020845477568993603}, {'ROW_ID': 479842, 'CONTRIBUTION': -0.007784889015649939}, {'ROW_ID': 479852, 'CONTRIBUTION': 0.00014811623731804852}, {'ROW_ID': 479862, 'CONTRIBUTION': -0.002033460207248141}, {'ROW_ID': 479872, 'CONTRIBUTION': -0.0010631733305797456}, {'ROW_ID': 479882, 'CONTRIBUTION': -0.0007820035241454386}, {'ROW_ID': 479892, 'CONTRIBUTION': -5.0208894006141e-05}]\n"
     ]
    },
    {
     "data": {
      "image/png": "[encoded data removed]",
      "text/plain": [
       "<Figure size 432x288 with 2 Axes>"
      ]
     },
     "metadata": {
      "needs_background": "light"
     },
     "output_type": "display_data"
    }
   ],
   "source": [
    "pulse_id = get_record_id_from_name(\"Pulse\", \"SURGERY_VITAL_SIGNS\")\n",
    "pulse_feature_name_mean = \"MEAN(SURGERY_VITAL_SIGNS.VALUE WHERE ITEMID = %s)\" % (pulse_id)\n",
    "pulse_feature_name_std = \"STD(SURGERY_VITAL_SIGNS.VALUE WHERE ITEMID = %s)\" % (pulse_id)\n",
    "pulse_feature_name_trend = \"TREND(SURGERY_VITAL_SIGNS.VALUE, MONITOR_TIME WHERE ITEMID = %s)\" % (pulse_id)\n",
    "\n",
    "pulse_contributions, pulse_signal = occlusion_explain(pulse_id, \"SURGERY_VITAL_SIGNS\", ft.primitives.Trend(), \n",
    "                                                      pulse_feature_name_trend, 885705, return_signal=True, record_format=False)\n",
    "\n",
    "record_contributions = occlusion_explain(pulse_id, \"SURGERY_VITAL_SIGNS\", ft.primitives.Trend(), \n",
    "                                         pulse_feature_name_trend, 885705)\n",
    "print(record_contributions)\n",
    "visualize_signal(pulse_signal, c=pulse_contributions)"
   ]
  },
  {
   "cell_type": "code",
   "execution_count": 10,
   "id": "dried-efficiency",
   "metadata": {},
   "outputs": [],
   "source": [
    "def transform(x):\n",
    "    # Transform x using a list of transformers\n",
    "    \n",
    "    trans_x = x.copy()\n",
    "    for transformer in transformers:\n",
    "        trans_x = transformer.transform(trans_x)\n",
    "    return trans_x\n",
    "\n",
    "def run_occlusion_shap(signal, primitive, x, feature_name, algorithm, window_size=5, primitive_args=None):\n",
    "    # Run the occlusion-on-shap algorithm on a signal \n",
    "    if primitive_args is None:\n",
    "        primitive_args = []\n",
    "    \n",
    "    shap_values = explainer.shap_values(transform(x.to_numpy()))[0]\n",
    "    feature_ind = x.columns.get_loc(feature_name)\n",
    "    base_value = shap_values[feature_ind]\n",
    "    \n",
    "    v = np.zeros(len(signal))\n",
    "    hits = np.zeros(len(signal))\n",
    "    for start in range(len(signal)):\n",
    "        occluded = occlude(signal, \"linear\", start, window_size)\n",
    "        new_value = primitive(occluded, *primitive_args)\n",
    "        x_copy = x.copy()\n",
    "        x_copy[feature_name] = new_value\n",
    "        new_shap_value = explainer.shap_values(transform(x_copy.to_numpy()))[0][feature_ind]\n",
    "        v[start:start+window_size] += ((base_value - new_shap_value) / np.abs(base_value)) \n",
    "        hits[start:start+window_size] += 1\n",
    "    v = v / hits\n",
    "    return v\n",
    "\n",
    "def occlusion_explain_shap(record_id, feature_table_name, primitive, feature_name, uni_oper_id, \n",
    "                           algorithm=\"linear\", window_size=5,\n",
    "                           return_signal=False, record_format=True):\n",
    "    # Explain signal contributions using the occlusion-on-shap algorithm \n",
    "    \n",
    "    signal, signal_table = extract_signal(uni_oper_id, feature_table_name, record_id)\n",
    "    signal = signal.to_numpy()\n",
    "    \n",
    "    if uni_oper_id in X_train.index:\n",
    "        x = X_train.loc[[uni_oper_id]]\n",
    "    else:\n",
    "        x = X_test.loc[[uni_oper_id]]\n",
    "\n",
    "    if isinstance(primitive, ft.primitives.Trend):\n",
    "        v = run_occlusion_shap(signal, primitive, x, feature_name, algorithm, window_size, \n",
    "                               primitive_args=[signal_table[\"MONITOR_TIME\"].to_numpy()])\n",
    "    else:\n",
    "        v = run_occlusion_shap(signal, primitive, x, feature_name, algorithm, window_size, primitive_args=[])\n",
    "    if not record_format:\n",
    "        if return_signal:\n",
    "            return v, signal\n",
    "        return v\n",
    "    records_to_contributions_df = pd.DataFrame({\"ROW_ID\": signal_table[\"ROW_ID\"], \"CONTRIBUTION\": v})\n",
    "    records_to_contributions = records_to_contributions_df.to_dict(orient='records')\n",
    "    return records_to_contributions"
   ]
  },
  {
   "cell_type": "code",
   "execution_count": 11,
   "id": "transsexual-conference",
   "metadata": {},
   "outputs": [
    {
     "data": {
      "image/png": "[encoded data removed]",
      "text/plain": [
       "<Figure size 432x288 with 2 Axes>"
      ]
     },
     "metadata": {
      "needs_background": "light"
     },
     "output_type": "display_data"
    }
   ],
   "source": [
    "pulse_id = get_record_id_from_name(\"Pulse\", \"SURGERY_VITAL_SIGNS\")\n",
    "pulse_id = get_record_id_from_name(\"Pulse\", \"SURGERY_VITAL_SIGNS\")\n",
    "pulse_feature_name_mean = \"MEAN(SURGERY_VITAL_SIGNS.VALUE WHERE ITEMID = %s)\" % (pulse_id)\n",
    "pulse_feature_name_std = \"STD(SURGERY_VITAL_SIGNS.VALUE WHERE ITEMID = %s)\" % (pulse_id)\n",
    "pulse_feature_name_trend = \"TREND(SURGERY_VITAL_SIGNS.VALUE, MONITOR_TIME WHERE ITEMID = %s)\" % (pulse_id)\n",
    "\n",
    "pulse_contributions, pulse_signal = occlusion_explain_shap(pulse_id, \"SURGERY_VITAL_SIGNS\", ft.primitives.Trend(), \n",
    "                                                           pulse_feature_name_trend, 885705, return_signal=True, record_format=False, \n",
    "                                                           window_size=5)\n",
    "\n",
    "record_contributions = occlusion_explain_shap(pulse_id, \"SURGERY_VITAL_SIGNS\", ft.primitives.Trend(), \n",
    "                                                           pulse_feature_name_trend, 885705, window_size=5)\n",
    "visualize_signal(pulse_signal, c=pulse_contributions)"
   ]
  },
  {
   "cell_type": "code",
   "execution_count": null,
   "id": "olympic-bunny",
   "metadata": {},
   "outputs": [],
   "source": []
  }
 ],
 "metadata": {
  "kernelspec": {
   "display_name": "pic-venv",
   "language": "python",
   "name": "pic-venv"
  },
  "language_info": {
   "codemirror_mode": {
    "name": "ipython",
    "version": 3
   },
   "file_extension": ".py",
   "mimetype": "text/x-python",
   "name": "python",
   "nbconvert_exporter": "python",
   "pygments_lexer": "ipython3",
   "version": "3.8.5"
  }
 },
 "nbformat": 4,
 "nbformat_minor": 5
}
